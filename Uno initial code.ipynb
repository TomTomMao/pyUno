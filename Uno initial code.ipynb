{
 "cells": [
  {
   "cell_type": "code",
   "execution_count": 59,
   "id": "296239e4",
   "metadata": {},
   "outputs": [],
   "source": [
    "##Card Creation\n",
    "\n",
    "## Cards have 2 features, colours and function\n",
    "## To generate cards, we need to create lists of all possible colours and functions\n",
    "## Normal Colours and Red, Yellow, Blue, Green\n",
    "## Normal Funtions are numbers 0-10, skip turn, reverse order, draw 2\n",
    "## Special Colour is Black, matches all normal colours\n",
    "## Special Functions are wildcard and draw 4, both allowing to pick the colour of play to follow\n",
    "## To aid in game logic, these will be segmented into multiple variables to be checked against eachother\n",
    "## Once a variables are created for each card type and colour, these will be conbined to generate \"allcards\" containing all possible cards\n",
    "\n",
    "numbers = list(range(1,10)) + list(range(10))\n",
    "special = [\"skip_turn\",\"reverse\",\"draw_2\"] *2\n",
    "black_special = [\"wildcard\", \"draw_4\"] *4\n",
    "allfunctions = numbers + special + black_special\n",
    "normalcolours = [\"red\",\"yellow\",\"green\",\"blue\"]\n",
    "allcolours = normalcolours + [\"black\"]\n",
    "\n",
    "allcards = []\n",
    "\n",
    "for number in numbers:\n",
    "    for colour in normalcolours:\n",
    "        allcards.append([colour,number])\n",
    "for function in special:\n",
    "    for colour in normalcolours:\n",
    "        allcards.append([colour,function])\n",
    "for function in black_special:\n",
    "    allcards.append([\"black\",function])\n",
    "\n",
    "    \n",
    "## Each card will be a object within object class\n",
    "\n",
    "class card:\n",
    "    def __init__(self,colour,function):\n",
    "        self.colour = colour\n",
    "        self.function = function\n",
    "\n",
    "    ## Each card will also be able to check itself against another, to check if the card is valid to be played\n",
    "    \n",
    "    def valid_play(self,top_card):\n",
    "        return(self.colour == top_card.colour or\n",
    "               self.function == top_card.function or\n",
    "               self.colour == \"black\")\n",
    "        \n",
    "        \n",
    "## Information on each player will also be stored in a class\n",
    "\n",
    "        \n",
    "class player\n",
    "\n",
    "    def __init__(self,player_id)\n",
    "        self.player_id = player_id\n",
    "        self.hand = []\n",
    "        \n",
    "class computerplayer(player)\n",
    "    \n",
    "    \n",
    "class humanplayer(player)"
   ]
  },
  {
   "cell_type": "code",
   "execution_count": 56,
   "id": "ea51033b",
   "metadata": {},
   "outputs": [
    {
     "name": "stdout",
     "output_type": "stream",
     "text": [
      "[['red', 1], ['yellow', 1], ['green', 1], ['blue', 1], ['red', 2], ['yellow', 2], ['green', 2], ['blue', 2], ['red', 3], ['yellow', 3], ['green', 3], ['blue', 3], ['red', 4], ['yellow', 4], ['green', 4], ['blue', 4], ['red', 5], ['yellow', 5], ['green', 5], ['blue', 5], ['red', 6], ['yellow', 6], ['green', 6], ['blue', 6], ['red', 7], ['yellow', 7], ['green', 7], ['blue', 7], ['red', 8], ['yellow', 8], ['green', 8], ['blue', 8], ['red', 9], ['yellow', 9], ['green', 9], ['blue', 9], ['red', 0], ['yellow', 0], ['green', 0], ['blue', 0], ['red', 1], ['yellow', 1], ['green', 1], ['blue', 1], ['red', 2], ['yellow', 2], ['green', 2], ['blue', 2], ['red', 3], ['yellow', 3], ['green', 3], ['blue', 3], ['red', 4], ['yellow', 4], ['green', 4], ['blue', 4], ['red', 5], ['yellow', 5], ['green', 5], ['blue', 5], ['red', 6], ['yellow', 6], ['green', 6], ['blue', 6], ['red', 7], ['yellow', 7], ['green', 7], ['blue', 7], ['red', 8], ['yellow', 8], ['green', 8], ['blue', 8], ['red', 9], ['yellow', 9], ['green', 9], ['blue', 9], ['red', 'skip_turn'], ['yellow', 'skip_turn'], ['green', 'skip_turn'], ['blue', 'skip_turn'], ['red', 'reverse'], ['yellow', 'reverse'], ['green', 'reverse'], ['blue', 'reverse'], ['red', 'draw_2'], ['yellow', 'draw_2'], ['green', 'draw_2'], ['blue', 'draw_2'], ['red', 'skip_turn'], ['yellow', 'skip_turn'], ['green', 'skip_turn'], ['blue', 'skip_turn'], ['red', 'reverse'], ['yellow', 'reverse'], ['green', 'reverse'], ['blue', 'reverse'], ['red', 'draw_2'], ['yellow', 'draw_2'], ['green', 'draw_2'], ['blue', 'draw_2'], ['black', 'wildcard'], ['black', 'draw_4'], ['black', 'wildcard'], ['black', 'draw_4'], ['black', 'wildcard'], ['black', 'draw_4'], ['black', 'wildcard'], ['black', 'draw_4']]\n",
      "108\n"
     ]
    }
   ],
   "source": []
  },
  {
   "cell_type": "code",
   "execution_count": 22,
   "id": "330e5fac",
   "metadata": {},
   "outputs": [
    {
     "name": "stdout",
     "output_type": "stream",
     "text": [
      "[<__main__.Card object at 0x00000266F98BCD90>]\n"
     ]
    }
   ],
   "source": []
  },
  {
   "cell_type": "code",
   "execution_count": 20,
   "id": "db26b686",
   "metadata": {
    "scrolled": true
   },
   "outputs": [
    {
     "ename": "NameError",
     "evalue": "name 'deck' is not defined",
     "output_type": "error",
     "traceback": [
      "\u001b[1;31m---------------------------------------------------------------------------\u001b[0m",
      "\u001b[1;31mNameError\u001b[0m                                 Traceback (most recent call last)",
      "Input \u001b[1;32mIn [20]\u001b[0m, in \u001b[0;36m<cell line: 1>\u001b[1;34m()\u001b[0m\n\u001b[1;32m----> 1\u001b[0m \u001b[38;5;28mprint\u001b[39m(\u001b[43mdeck\u001b[49m)\n",
      "\u001b[1;31mNameError\u001b[0m: name 'deck' is not defined"
     ]
    }
   ],
   "source": []
  },
  {
   "cell_type": "code",
   "execution_count": null,
   "id": "19f9b95c",
   "metadata": {},
   "outputs": [],
   "source": []
  }
 ],
 "metadata": {
  "kernelspec": {
   "display_name": "Python 3 (ipykernel)",
   "language": "python",
   "name": "python3"
  },
  "language_info": {
   "codemirror_mode": {
    "name": "ipython",
    "version": 3
   },
   "file_extension": ".py",
   "mimetype": "text/x-python",
   "name": "python",
   "nbconvert_exporter": "python",
   "pygments_lexer": "ipython3",
   "version": "3.9.12"
  }
 },
 "nbformat": 4,
 "nbformat_minor": 5
}
